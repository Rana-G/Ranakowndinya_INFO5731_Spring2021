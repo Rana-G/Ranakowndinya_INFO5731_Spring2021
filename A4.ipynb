{
  "nbformat": 4,
  "nbformat_minor": 0,
  "metadata": {
    "accelerator": "GPU",
    "colab": {
      "name": "LDA LSA Rating Classification.ipynb",
      "provenance": []
    },
    "kernelspec": {
      "display_name": "Python 3",
      "name": "python3"
    },
    "language_info": {
      "name": "python"
    }
  },
  "cells": [
    {
      "cell_type": "code",
      "metadata": {
        "colab": {
          "base_uri": "https://localhost:8080/"
        },
        "id": "9SHMM8MfdiB5",
        "outputId": "e9bb5eb4-e004-470c-bdb3-477d4a542f3c"
      },
      "source": [
        "from google.colab import drive\n",
        "drive.mount('/content/drive')"
      ],
      "execution_count": 3,
      "outputs": [
        {
          "output_type": "stream",
          "text": [
            "Mounted at /content/drive\n"
          ],
          "name": "stdout"
        }
      ]
    },
    {
      "cell_type": "code",
      "metadata": {
        "colab": {
          "base_uri": "https://localhost:8080/"
        },
        "id": "vVZBAVmNatHj",
        "outputId": "ee1f763a-62d4-4223-87d5-518c5da1d1ed"
      },
      "source": [
        "!pip install stop_words\n",
        "import pandas\n",
        "import spacy\n",
        "import matplotlib.pyplot as plt\n",
        "from pprint import pprint\n",
        "from gensim.models import CoherenceModel\n",
        "import seaborn as sns\n",
        "import nltk\n",
        "nltk.download('stopwords')\n",
        "from nltk.corpus import stopwords\n",
        "from stop_words import get_stop_words\n",
        "from nltk.stem.porter import PorterStemmer\n",
        "from nltk.tokenize import RegexpTokenizer\n",
        "from textblob import TextBlob\n",
        "from sklearn.preprocessing import LabelEncoder\n",
        "from sklearn.feature_extraction.text import TfidfVectorizer\n",
        "from sklearn import model_selection\n",
        "from sklearn.metrics import accuracy_score\n",
        "from sklearn.metrics import classification_report\n",
        "from sklearn import svm\n",
        "from sklearn import naive_bayes\n",
        "from sklearn.model_selection import train_test_split\n",
        "from keras.layers import Dense, Input\n",
        "from keras.models import Model\n",
        "from sklearn.model_selection import GridSearchCV\n",
        "from xgboost import XGBRegressor\n",
        "from sklearn.model_selection import train_test_split\n",
        "from sklearn.preprocessing import LabelEncoder\n",
        "import warnings\n",
        "warnings.filterwarnings(\"ignore\")"
      ],
      "execution_count": 40,
      "outputs": [
        {
          "output_type": "stream",
          "text": [
            "Requirement already satisfied: stop_words in /usr/local/lib/python3.7/dist-packages (2018.7.23)\n",
            "[nltk_data] Downloading package stopwords to /root/nltk_data...\n",
            "[nltk_data]   Package stopwords is already up-to-date!\n"
          ],
          "name": "stdout"
        }
      ]
    },
    {
      "cell_type": "code",
      "metadata": {
        "colab": {
          "base_uri": "https://localhost:8080/",
          "height": 204
        },
        "id": "YsvDtUWILVDk",
        "outputId": "9eea7104-0a76-4932-ed5e-70ae2cfb9c6d"
      },
      "source": [
        "path='/content/drive/My Drive/GBDT/preprocessed_data.csv'\n",
        "data = pandas.read_csv(path)\n",
        "data=data[:4000]\n",
        "data.head()"
      ],
      "execution_count": 6,
      "outputs": [
        {
          "output_type": "execute_result",
          "data": {
            "text/html": [
              "<div>\n",
              "<style scoped>\n",
              "    .dataframe tbody tr th:only-of-type {\n",
              "        vertical-align: middle;\n",
              "    }\n",
              "\n",
              "    .dataframe tbody tr th {\n",
              "        vertical-align: top;\n",
              "    }\n",
              "\n",
              "    .dataframe thead th {\n",
              "        text-align: right;\n",
              "    }\n",
              "</style>\n",
              "<table border=\"1\" class=\"dataframe\">\n",
              "  <thead>\n",
              "    <tr style=\"text-align: right;\">\n",
              "      <th></th>\n",
              "      <th>school_state</th>\n",
              "      <th>teacher_prefix</th>\n",
              "      <th>project_grade_category</th>\n",
              "      <th>teacher_number_of_previously_posted_projects</th>\n",
              "      <th>project_is_approved</th>\n",
              "      <th>clean_categories</th>\n",
              "      <th>clean_subcategories</th>\n",
              "      <th>essay</th>\n",
              "      <th>price</th>\n",
              "    </tr>\n",
              "  </thead>\n",
              "  <tbody>\n",
              "    <tr>\n",
              "      <th>0</th>\n",
              "      <td>ca</td>\n",
              "      <td>mrs</td>\n",
              "      <td>grades_prek_2</td>\n",
              "      <td>53</td>\n",
              "      <td>1</td>\n",
              "      <td>math_science</td>\n",
              "      <td>appliedsciences health_lifescience</td>\n",
              "      <td>i fortunate enough use fairy tale stem kits cl...</td>\n",
              "      <td>725.05</td>\n",
              "    </tr>\n",
              "    <tr>\n",
              "      <th>1</th>\n",
              "      <td>ut</td>\n",
              "      <td>ms</td>\n",
              "      <td>grades_3_5</td>\n",
              "      <td>4</td>\n",
              "      <td>1</td>\n",
              "      <td>specialneeds</td>\n",
              "      <td>specialneeds</td>\n",
              "      <td>imagine 8 9 years old you third grade classroo...</td>\n",
              "      <td>213.03</td>\n",
              "    </tr>\n",
              "    <tr>\n",
              "      <th>2</th>\n",
              "      <td>ca</td>\n",
              "      <td>mrs</td>\n",
              "      <td>grades_prek_2</td>\n",
              "      <td>10</td>\n",
              "      <td>1</td>\n",
              "      <td>literacy_language</td>\n",
              "      <td>literacy</td>\n",
              "      <td>having class 24 students comes diverse learner...</td>\n",
              "      <td>329.00</td>\n",
              "    </tr>\n",
              "    <tr>\n",
              "      <th>3</th>\n",
              "      <td>ga</td>\n",
              "      <td>mrs</td>\n",
              "      <td>grades_prek_2</td>\n",
              "      <td>2</td>\n",
              "      <td>1</td>\n",
              "      <td>appliedlearning</td>\n",
              "      <td>earlydevelopment</td>\n",
              "      <td>i recently read article giving students choice...</td>\n",
              "      <td>481.04</td>\n",
              "    </tr>\n",
              "    <tr>\n",
              "      <th>4</th>\n",
              "      <td>wa</td>\n",
              "      <td>mrs</td>\n",
              "      <td>grades_3_5</td>\n",
              "      <td>2</td>\n",
              "      <td>1</td>\n",
              "      <td>literacy_language</td>\n",
              "      <td>literacy</td>\n",
              "      <td>my students crave challenge eat obstacles brea...</td>\n",
              "      <td>17.74</td>\n",
              "    </tr>\n",
              "  </tbody>\n",
              "</table>\n",
              "</div>"
            ],
            "text/plain": [
              "  school_state  ...   price\n",
              "0           ca  ...  725.05\n",
              "1           ut  ...  213.03\n",
              "2           ca  ...  329.00\n",
              "3           ga  ...  481.04\n",
              "4           wa  ...   17.74\n",
              "\n",
              "[5 rows x 9 columns]"
            ]
          },
          "metadata": {
            "tags": []
          },
          "execution_count": 6
        }
      ]
    },
    {
      "cell_type": "code",
      "metadata": {
        "id": "bHwrJwSPeVaC"
      },
      "source": [
        "tokenizer = RegexpTokenizer(r'\\w+')\n",
        "en_stop = get_stop_words('en')\n",
        "p_stemmer = PorterStemmer()"
      ],
      "execution_count": 7,
      "outputs": []
    },
    {
      "cell_type": "code",
      "metadata": {
        "id": "InwQrQRehfGw"
      },
      "source": [
        "data['Lower Case'] = data['essay'].apply(lambda x: \" \".join(x.lower() for x in str(x).split()))\n",
        "data['Tokenization'] = data['Lower Case'].apply(lambda x: tokenizer.tokenize(x))\n",
        "data['Tokens'] = data['Tokenization'].apply(lambda x: [i for i in x if not i in en_stop])\n",
        "data['Stemming'] = data['Tokens'].apply(lambda x: [p_stemmer.stem(i) for i in x])"
      ],
      "execution_count": 8,
      "outputs": []
    },
    {
      "cell_type": "code",
      "metadata": {
        "id": "2AxJgSHRhyW_",
        "colab": {
          "base_uri": "https://localhost:8080/"
        },
        "outputId": "63b4337e-1097-44c6-ed75-26a258ffa4a0"
      },
      "source": [
        "texts = []\n",
        "for line in data['Stemming']:\n",
        "  texts.append(line)\n",
        "from gensim import corpora, models\n",
        "bigram = models.Phrases(texts, min_count=5, threshold=100)\n",
        "trigram = models.Phrases(bigram[texts], threshold=100)\n",
        "bigram_mod = models.phrases.Phraser(bigram)\n",
        "trigram_mod = models.phrases.Phraser(trigram)"
      ],
      "execution_count": 9,
      "outputs": [
        {
          "output_type": "stream",
          "text": [
            "/usr/local/lib/python3.7/dist-packages/gensim/models/phrases.py:598: UserWarning: For a faster implementation, use the gensim.models.phrases.Phraser class\n",
            "  warnings.warn(\"For a faster implementation, use the gensim.models.phrases.Phraser class\")\n"
          ],
          "name": "stderr"
        }
      ]
    },
    {
      "cell_type": "code",
      "metadata": {
        "id": "kbMqOLcuh8Yx"
      },
      "source": [
        "def make_bigrams(texts):\n",
        "    return [bigram_mod[doc] for doc in texts]\n",
        "def make_trigrams(texts):\n",
        "    return [trigram_mod[bigram_mod[doc]] for doc in texts]\n",
        "def lemmatization(texts, allowed_postags=['NOUN', 'ADJ', 'VERB', 'ADV']):\n",
        "    texts_out = []\n",
        "    for sent in texts:\n",
        "        doc = nlp(\" \".join(sent)) \n",
        "        texts_out.append([token.lemma_ for token in doc if token.pos_ in allowed_postags])\n",
        "    return texts_out"
      ],
      "execution_count": 10,
      "outputs": []
    },
    {
      "cell_type": "code",
      "metadata": {
        "id": "7kzPz8OwiEgQ"
      },
      "source": [
        "data_words_bigrams = make_bigrams(texts)\n",
        "nlp = spacy.load('en', disable=['parser', 'ner'])\n",
        "data_lemmatized = lemmatization(data_words_bigrams, allowed_postags=['NOUN', 'ADJ', 'VERB', 'ADV'])\n",
        "id2word = corpora.Dictionary(data_lemmatized)\n",
        "texts = data_lemmatized\n",
        "corpus = [id2word.doc2bow(text) for text in texts]"
      ],
      "execution_count": 11,
      "outputs": []
    },
    {
      "cell_type": "markdown",
      "metadata": {
        "id": "F682-y4IVcdn"
      },
      "source": [
        "#LDA#"
      ]
    },
    {
      "cell_type": "code",
      "metadata": {
        "id": "GZVHSBpliVUo"
      },
      "source": [
        "lda_model = models.ldamodel.LdaModel(corpus=corpus,id2word=id2word,num_topics = 20,random_state=100,update_every=1,chunksize=100,passes=10,alpha='auto',per_word_topics=True)\n",
        "doc_lda = lda_model[corpus]\n",
        "coherence_model_lda = CoherenceModel(model=lda_model, texts=data_lemmatized, dictionary=id2word, coherence='c_v')\n",
        "coherence_lda = coherence_model_lda.get_coherence()"
      ],
      "execution_count": 12,
      "outputs": []
    },
    {
      "cell_type": "code",
      "metadata": {
        "colab": {
          "base_uri": "https://localhost:8080/"
        },
        "id": "rtosR6hVVymJ",
        "outputId": "dc3aec36-89c4-442a-af94-476cd3fe1fea"
      },
      "source": [
        "print('\\nPerplexity: ', lda_model.log_perplexity(corpus))\n",
        "print('\\nCoherence Score: ', coherence_lda)"
      ],
      "execution_count": 16,
      "outputs": [
        {
          "output_type": "stream",
          "text": [
            "\n",
            "Perplexity:  -6.21193191201483\n",
            "\n",
            "Coherence Score:  0.45154392933118775\n"
          ],
          "name": "stdout"
        }
      ]
    },
    {
      "cell_type": "markdown",
      "metadata": {
        "id": "Y2SrHGccJ0Vx"
      },
      "source": [
        "##LSA##"
      ]
    },
    {
      "cell_type": "code",
      "metadata": {
        "id": "1GtDDSmhi3ZI",
        "colab": {
          "base_uri": "https://localhost:8080/"
        },
        "outputId": "457c73f3-f1c5-4351-bb06-546fa72a1b2e"
      },
      "source": [
        "lsamodel = models.LsiModel(corpus, num_topics = 20, id2word = id2word)\n",
        "coherence_values = []\n",
        "model_list = []\n",
        "for num_topics in range(2, 12, 1):\n",
        "  model = models.LsiModel(corpus, num_topics = 20, id2word = id2word)\n",
        "  model_list.append(model)\n",
        "  coherencemodel = CoherenceModel(model= model, texts = data['Stemming'], dictionary = id2word, coherence='c_v')\n",
        "  coherence_values.append(coherencemodel.get_coherence())"
      ],
      "execution_count": 13,
      "outputs": [
        {
          "output_type": "stream",
          "text": [
            "/usr/local/lib/python3.7/dist-packages/gensim/topic_coherence/direct_confirmation_measure.py:195: RuntimeWarning: divide by zero encountered in double_scalars\n",
            "  m_lr_i = np.log(numerator / denominator)\n",
            "/usr/local/lib/python3.7/dist-packages/gensim/topic_coherence/indirect_confirmation_measure.py:317: RuntimeWarning: invalid value encountered in double_scalars\n",
            "  return cv1.T.dot(cv2)[0, 0] / (_magnitude(cv1) * _magnitude(cv2))\n"
          ],
          "name": "stderr"
        }
      ]
    },
    {
      "cell_type": "code",
      "metadata": {
        "colab": {
          "base_uri": "https://localhost:8080/",
          "height": 279
        },
        "id": "wZlwm7m-Trk0",
        "outputId": "f870a24e-104c-4b87-a881-2b28846c4b3b"
      },
      "source": [
        "x = range(2, 12, 1)\n",
        "plt.plot(x, coherence_values)\n",
        "plt.xlabel(\"Number of Topics\")\n",
        "plt.ylabel(\"Coherence score\")\n",
        "plt.legend((\"coherence_values\"), loc='best')\n",
        "plt.show()"
      ],
      "execution_count": 17,
      "outputs": [
        {
          "output_type": "display_data",
          "data": {
            "image/png": "[encoded data removed]",
            "text/plain": [
              "<Figure size 432x288 with 1 Axes>"
            ]
          },
          "metadata": {
            "tags": [],
            "needs_background": "light"
          }
        }
      ]
    },
    {
      "cell_type": "markdown",
      "metadata": {
        "id": "oI1dW1qrVkYX"
      },
      "source": [
        "#REVIEW CLASSIFICATION#"
      ]
    },
    {
      "cell_type": "code",
      "metadata": {
        "id": "YzXBQMm8kvUY"
      },
      "source": [
        "path='/content/drive/My Drive/Recommender/ratings_train.csv'\n",
        "data1=pandas.read_csv(path)\n",
        "data1=data1[:4000]"
      ],
      "execution_count": 54,
      "outputs": []
    },
    {
      "cell_type": "code",
      "metadata": {
        "id": "216FNPuelP3f",
        "colab": {
          "base_uri": "https://localhost:8080/",
          "height": 398
        },
        "outputId": "de4cdf70-13e0-4684-b39a-1038045f3004"
      },
      "source": [
        "print(data1['rating'].value_counts())\n",
        "sns.countplot(data1.rating)"
      ],
      "execution_count": 55,
      "outputs": [
        {
          "output_type": "stream",
          "text": [
            "4    1332\n",
            "3    1116\n",
            "5     827\n",
            "2     485\n",
            "1     240\n",
            "Name: rating, dtype: int64\n"
          ],
          "name": "stdout"
        },
        {
          "output_type": "execute_result",
          "data": {
            "text/plain": [
              "<matplotlib.axes._subplots.AxesSubplot at 0x7f58c0fa3490>"
            ]
          },
          "metadata": {
            "tags": []
          },
          "execution_count": 55
        },
        {
          "output_type": "display_data",
          "data": {
            "image/png": "[encoded data removed]",
            "text/plain": [
              "<Figure size 432x288 with 1 Axes>"
            ]
          },
          "metadata": {
            "tags": [],
            "needs_background": "light"
          }
        }
      ]
    },
    {
      "cell_type": "code",
      "metadata": {
        "id": "_Iv4_6jmlRsf"
      },
      "source": [
        "data['Cleaned Text'] = data['essay'].apply(lambda x: \" \".join(x.lower() for x in x.split()))\n",
        "data['Cleaned Text'] = data['Cleaned Text'].str.replace('[^\\w\\s]','')\n",
        "stop = stopwords.words('english')\n",
        "data['Cleaned Text'] = data['Cleaned Text'].apply(lambda x: \" \".join(x for x in x.split() if x not in stop))"
      ],
      "execution_count": 56,
      "outputs": []
    },
    {
      "cell_type": "code",
      "metadata": {
        "id": "hW1vXW-ClW9z"
      },
      "source": [
        "Tfidfvector = TfidfVectorizer(ngram_range=(1,2), max_features=1000)\n",
        "Tfidfvector.fit(data['essay'])\n",
        "x_values = Tfidfvector.transform(data['essay'])\n",
        "encoder = LabelEncoder()\n",
        "y_values = encoder.fit_transform(data1['rating'])"
      ],
      "execution_count": 57,
      "outputs": []
    },
    {
      "cell_type": "code",
      "metadata": {
        "id": "BvNdKhlvnW-p"
      },
      "source": [
        "X_train, x_test, y_train, y_test = model_selection.train_test_split(x_values, y_values, test_size=0.2)"
      ],
      "execution_count": 58,
      "outputs": []
    },
    {
      "cell_type": "markdown",
      "metadata": {
        "id": "t9DuAadonbRO"
      },
      "source": [
        "##SVM##"
      ]
    },
    {
      "cell_type": "code",
      "metadata": {
        "id": "BdVLyl8AnZgx",
        "colab": {
          "base_uri": "https://localhost:8080/"
        },
        "outputId": "b8b8d32b-9c22-4859-edf0-c9286f253d80"
      },
      "source": [
        "svm = svm.SVC(kernel='linear')\n",
        "svm.fit(X_train, y_train)\n",
        "predicted = svm.predict(x_test)\n",
        "print(\"Accuracy score is {0}\".format(accuracy_score(y_test, predicted)))\n",
        "report = classification_report(y_test, predicted, output_dict=True)\n",
        "report"
      ],
      "execution_count": 59,
      "outputs": [
        {
          "output_type": "stream",
          "text": [
            "Accuracy score is 0.30625\n"
          ],
          "name": "stdout"
        },
        {
          "output_type": "execute_result",
          "data": {
            "text/plain": [
              "{'0': {'f1-score': 0.0, 'precision': 0.0, 'recall': 0.0, 'support': 52},\n",
              " '1': {'f1-score': 0.0, 'precision': 0.0, 'recall': 0.0, 'support': 106},\n",
              " '2': {'f1-score': 0.3216494845360825,\n",
              "  'precision': 0.3046875,\n",
              "  'recall': 0.3406113537117904,\n",
              "  'support': 229},\n",
              " '3': {'f1-score': 0.414535666218035,\n",
              "  'precision': 0.3228511530398323,\n",
              "  'recall': 0.5789473684210527,\n",
              "  'support': 266},\n",
              " '4': {'f1-score': 0.12322274881516587,\n",
              "  'precision': 0.203125,\n",
              "  'recall': 0.08843537414965986,\n",
              "  'support': 147},\n",
              " 'accuracy': 0.30625,\n",
              " 'macro avg': {'f1-score': 0.17188157991385666,\n",
              "  'precision': 0.16613273060796646,\n",
              "  'recall': 0.20159881925650058,\n",
              "  'support': 800},\n",
              " 'weighted avg': {'f1-score': 0.252547454060737,\n",
              "  'precision': 0.2318890240107442,\n",
              "  'recall': 0.30625,\n",
              "  'support': 800}}"
            ]
          },
          "metadata": {
            "tags": []
          },
          "execution_count": 59
        }
      ]
    },
    {
      "cell_type": "markdown",
      "metadata": {
        "id": "kFmKSeDZnh_d"
      },
      "source": [
        "##Naive Bayes##"
      ]
    },
    {
      "cell_type": "code",
      "metadata": {
        "id": "2BH3MZWAnjZR",
        "colab": {
          "base_uri": "https://localhost:8080/"
        },
        "outputId": "d8778052-bcb6-470a-f496-43ff83f124f7"
      },
      "source": [
        "n = naive_bayes.MultinomialNB()\n",
        "n.fit(X_train, y_train)\n",
        "predicted = n.predict(x_test)\n",
        "print(\"Accuracy score is {0}\".format(accuracy_score(y_test, predicted)))\n",
        "report = classification_report(y_test, predicted, output_dict=True)\n",
        "report"
      ],
      "execution_count": 61,
      "outputs": [
        {
          "output_type": "stream",
          "text": [
            "Accuracy score is 0.32875\n"
          ],
          "name": "stdout"
        },
        {
          "output_type": "execute_result",
          "data": {
            "text/plain": [
              "{'0': {'f1-score': 0.0, 'precision': 0.0, 'recall': 0.0, 'support': 52},\n",
              " '1': {'f1-score': 0.0, 'precision': 0.0, 'recall': 0.0, 'support': 106},\n",
              " '2': {'f1-score': 0.17230769230769227,\n",
              "  'precision': 0.2916666666666667,\n",
              "  'recall': 0.1222707423580786,\n",
              "  'support': 229},\n",
              " '3': {'f1-score': 0.4849740932642487,\n",
              "  'precision': 0.33476394849785407,\n",
              "  'recall': 0.8796992481203008,\n",
              "  'support': 266},\n",
              " '4': {'f1-score': 0.013157894736842105,\n",
              "  'precision': 0.2,\n",
              "  'recall': 0.006802721088435374,\n",
              "  'support': 147},\n",
              " 'accuracy': 0.32875,\n",
              " 'macro avg': {'f1-score': 0.13408793606175662,\n",
              "  'precision': 0.16528612303290413,\n",
              "  'recall': 0.20175454231336296,\n",
              "  'support': 800},\n",
              " 'weighted avg': {'f1-score': 0.21299472609133432,\n",
              "  'precision': 0.23154859620886983,\n",
              "  'recall': 0.32875,\n",
              "  'support': 800}}"
            ]
          },
          "metadata": {
            "tags": []
          },
          "execution_count": 61
        }
      ]
    },
    {
      "cell_type": "markdown",
      "metadata": {
        "id": "6l3JtYV5VrTv"
      },
      "source": [
        "#REGRESSION#"
      ]
    },
    {
      "cell_type": "code",
      "metadata": {
        "id": "wdEz62uSoUhx",
        "colab": {
          "base_uri": "https://localhost:8080/",
          "height": 204
        },
        "outputId": "c358d081-a340-4fb3-e959-486895857e5b"
      },
      "source": [
        "p=pandas.DataFrame({'texts':data['clean_subcategories'],'t':data['teacher_number_of_previously_posted_projects'],'p': data['project_is_approved'],'price':data['price']})\n",
        "p.head()"
      ],
      "execution_count": 41,
      "outputs": [
        {
          "output_type": "execute_result",
          "data": {
            "text/html": [
              "<div>\n",
              "<style scoped>\n",
              "    .dataframe tbody tr th:only-of-type {\n",
              "        vertical-align: middle;\n",
              "    }\n",
              "\n",
              "    .dataframe tbody tr th {\n",
              "        vertical-align: top;\n",
              "    }\n",
              "\n",
              "    .dataframe thead th {\n",
              "        text-align: right;\n",
              "    }\n",
              "</style>\n",
              "<table border=\"1\" class=\"dataframe\">\n",
              "  <thead>\n",
              "    <tr style=\"text-align: right;\">\n",
              "      <th></th>\n",
              "      <th>texts</th>\n",
              "      <th>t</th>\n",
              "      <th>p</th>\n",
              "      <th>price</th>\n",
              "    </tr>\n",
              "  </thead>\n",
              "  <tbody>\n",
              "    <tr>\n",
              "      <th>0</th>\n",
              "      <td>appliedsciences health_lifescience</td>\n",
              "      <td>53</td>\n",
              "      <td>1</td>\n",
              "      <td>725.05</td>\n",
              "    </tr>\n",
              "    <tr>\n",
              "      <th>1</th>\n",
              "      <td>specialneeds</td>\n",
              "      <td>4</td>\n",
              "      <td>1</td>\n",
              "      <td>213.03</td>\n",
              "    </tr>\n",
              "    <tr>\n",
              "      <th>2</th>\n",
              "      <td>literacy</td>\n",
              "      <td>10</td>\n",
              "      <td>1</td>\n",
              "      <td>329.00</td>\n",
              "    </tr>\n",
              "    <tr>\n",
              "      <th>3</th>\n",
              "      <td>earlydevelopment</td>\n",
              "      <td>2</td>\n",
              "      <td>1</td>\n",
              "      <td>481.04</td>\n",
              "    </tr>\n",
              "    <tr>\n",
              "      <th>4</th>\n",
              "      <td>literacy</td>\n",
              "      <td>2</td>\n",
              "      <td>1</td>\n",
              "      <td>17.74</td>\n",
              "    </tr>\n",
              "  </tbody>\n",
              "</table>\n",
              "</div>"
            ],
            "text/plain": [
              "                                texts   t  p   price\n",
              "0  appliedsciences health_lifescience  53  1  725.05\n",
              "1                        specialneeds   4  1  213.03\n",
              "2                            literacy  10  1  329.00\n",
              "3                    earlydevelopment   2  1  481.04\n",
              "4                            literacy   2  1   17.74"
            ]
          },
          "metadata": {
            "tags": []
          },
          "execution_count": 41
        }
      ]
    },
    {
      "cell_type": "code",
      "metadata": {
        "id": "iF6aRa4GosRo"
      },
      "source": [
        "l = LabelEncoder()\n",
        "l.fit(list(p['texts'].values))\n",
        "p['ctexts'] = l.transform(list(p['texts'].values))"
      ],
      "execution_count": 42,
      "outputs": []
    },
    {
      "cell_type": "code",
      "metadata": {
        "id": "phJbRqVXqBkw"
      },
      "source": [
        "x_values = p[[ 't', 'p', 'ctexts']]\n",
        "y_values = p['price']\n",
        "x_train,x_test, y_train, y_test=train_test_split(x_values, y_values,test_size=0.2)"
      ],
      "execution_count": 43,
      "outputs": []
    },
    {
      "cell_type": "code",
      "metadata": {
        "colab": {
          "base_uri": "https://localhost:8080/"
        },
        "id": "_ICkzVcv6Kyf",
        "outputId": "7614bd0e-937e-4dcd-a2c8-45d5a6ff0b38"
      },
      "source": [
        "model = XGBRegressor(random_state=96)\n",
        "model.fit(x_train, y_train)\n",
        "model.score(x_test, y_test),model.score(x_train, y_train)"
      ],
      "execution_count": 44,
      "outputs": [
        {
          "output_type": "stream",
          "text": [
            "[07:38:01] WARNING: /workspace/src/objective/regression_obj.cu:152: reg:linear is now deprecated in favor of reg:squarederror.\n"
          ],
          "name": "stdout"
        },
        {
          "output_type": "execute_result",
          "data": {
            "text/plain": [
              "(0.011806875234113945, 0.11787206402517314)"
            ]
          },
          "metadata": {
            "tags": []
          },
          "execution_count": 44
        }
      ]
    },
    {
      "cell_type": "code",
      "metadata": {
        "colab": {
          "base_uri": "https://localhost:8080/"
        },
        "id": "CQvj47nV6-84",
        "outputId": "2a99aa58-d986-48f3-e2ea-8602db431b16"
      },
      "source": [
        "parameter_grid = {\n",
        "    'max_depth' : [4,5,6,7],\n",
        "    'max_features': [0.5, 0.7]\n",
        "    }\n",
        "\n",
        "gridsearch = GridSearchCV(estimator=model, param_grid=parameter_grid, scoring='neg_mean_squared_error', cv=5)\n",
        "gridsearch.fit(x_train, y_train)\n",
        "gridsearch.best_params_"
      ],
      "execution_count": 47,
      "outputs": [
        {
          "output_type": "stream",
          "text": [
            "[07:38:26] WARNING: /workspace/src/objective/regression_obj.cu:152: reg:linear is now deprecated in favor of reg:squarederror.\n",
            "[07:38:26] WARNING: /workspace/src/objective/regression_obj.cu:152: reg:linear is now deprecated in favor of reg:squarederror.\n",
            "[07:38:26] WARNING: /workspace/src/objective/regression_obj.cu:152: reg:linear is now deprecated in favor of reg:squarederror.\n",
            "[07:38:26] WARNING: /workspace/src/objective/regression_obj.cu:152: reg:linear is now deprecated in favor of reg:squarederror.\n",
            "[07:38:26] WARNING: /workspace/src/objective/regression_obj.cu:152: reg:linear is now deprecated in favor of reg:squarederror.\n",
            "[07:38:26] WARNING: /workspace/src/objective/regression_obj.cu:152: reg:linear is now deprecated in favor of reg:squarederror.\n",
            "[07:38:26] WARNING: /workspace/src/objective/regression_obj.cu:152: reg:linear is now deprecated in favor of reg:squarederror.\n",
            "[07:38:26] WARNING: /workspace/src/objective/regression_obj.cu:152: reg:linear is now deprecated in favor of reg:squarederror.\n",
            "[07:38:27] WARNING: /workspace/src/objective/regression_obj.cu:152: reg:linear is now deprecated in favor of reg:squarederror.\n",
            "[07:38:27] WARNING: /workspace/src/objective/regression_obj.cu:152: reg:linear is now deprecated in favor of reg:squarederror.\n",
            "[07:38:27] WARNING: /workspace/src/objective/regression_obj.cu:152: reg:linear is now deprecated in favor of reg:squarederror.\n",
            "[07:38:27] WARNING: /workspace/src/objective/regression_obj.cu:152: reg:linear is now deprecated in favor of reg:squarederror.\n",
            "[07:38:27] WARNING: /workspace/src/objective/regression_obj.cu:152: reg:linear is now deprecated in favor of reg:squarederror.\n",
            "[07:38:27] WARNING: /workspace/src/objective/regression_obj.cu:152: reg:linear is now deprecated in favor of reg:squarederror.\n",
            "[07:38:27] WARNING: /workspace/src/objective/regression_obj.cu:152: reg:linear is now deprecated in favor of reg:squarederror.\n",
            "[07:38:27] WARNING: /workspace/src/objective/regression_obj.cu:152: reg:linear is now deprecated in favor of reg:squarederror.\n",
            "[07:38:27] WARNING: /workspace/src/objective/regression_obj.cu:152: reg:linear is now deprecated in favor of reg:squarederror.\n",
            "[07:38:27] WARNING: /workspace/src/objective/regression_obj.cu:152: reg:linear is now deprecated in favor of reg:squarederror.\n",
            "[07:38:27] WARNING: /workspace/src/objective/regression_obj.cu:152: reg:linear is now deprecated in favor of reg:squarederror.\n",
            "[07:38:28] WARNING: /workspace/src/objective/regression_obj.cu:152: reg:linear is now deprecated in favor of reg:squarederror.\n",
            "[07:38:28] WARNING: /workspace/src/objective/regression_obj.cu:152: reg:linear is now deprecated in favor of reg:squarederror.\n",
            "[07:38:28] WARNING: /workspace/src/objective/regression_obj.cu:152: reg:linear is now deprecated in favor of reg:squarederror.\n",
            "[07:38:28] WARNING: /workspace/src/objective/regression_obj.cu:152: reg:linear is now deprecated in favor of reg:squarederror.\n",
            "[07:38:28] WARNING: /workspace/src/objective/regression_obj.cu:152: reg:linear is now deprecated in favor of reg:squarederror.\n",
            "[07:38:28] WARNING: /workspace/src/objective/regression_obj.cu:152: reg:linear is now deprecated in favor of reg:squarederror.\n",
            "[07:38:28] WARNING: /workspace/src/objective/regression_obj.cu:152: reg:linear is now deprecated in favor of reg:squarederror.\n",
            "[07:38:28] WARNING: /workspace/src/objective/regression_obj.cu:152: reg:linear is now deprecated in favor of reg:squarederror.\n",
            "[07:38:28] WARNING: /workspace/src/objective/regression_obj.cu:152: reg:linear is now deprecated in favor of reg:squarederror.\n",
            "[07:38:29] WARNING: /workspace/src/objective/regression_obj.cu:152: reg:linear is now deprecated in favor of reg:squarederror.\n",
            "[07:38:29] WARNING: /workspace/src/objective/regression_obj.cu:152: reg:linear is now deprecated in favor of reg:squarederror.\n",
            "[07:38:29] WARNING: /workspace/src/objective/regression_obj.cu:152: reg:linear is now deprecated in favor of reg:squarederror.\n",
            "[07:38:29] WARNING: /workspace/src/objective/regression_obj.cu:152: reg:linear is now deprecated in favor of reg:squarederror.\n",
            "[07:38:29] WARNING: /workspace/src/objective/regression_obj.cu:152: reg:linear is now deprecated in favor of reg:squarederror.\n",
            "[07:38:29] WARNING: /workspace/src/objective/regression_obj.cu:152: reg:linear is now deprecated in favor of reg:squarederror.\n",
            "[07:38:29] WARNING: /workspace/src/objective/regression_obj.cu:152: reg:linear is now deprecated in favor of reg:squarederror.\n",
            "[07:38:29] WARNING: /workspace/src/objective/regression_obj.cu:152: reg:linear is now deprecated in favor of reg:squarederror.\n",
            "[07:38:30] WARNING: /workspace/src/objective/regression_obj.cu:152: reg:linear is now deprecated in favor of reg:squarederror.\n",
            "[07:38:30] WARNING: /workspace/src/objective/regression_obj.cu:152: reg:linear is now deprecated in favor of reg:squarederror.\n",
            "[07:38:30] WARNING: /workspace/src/objective/regression_obj.cu:152: reg:linear is now deprecated in favor of reg:squarederror.\n",
            "[07:38:30] WARNING: /workspace/src/objective/regression_obj.cu:152: reg:linear is now deprecated in favor of reg:squarederror.\n",
            "[07:38:30] WARNING: /workspace/src/objective/regression_obj.cu:152: reg:linear is now deprecated in favor of reg:squarederror.\n"
          ],
          "name": "stdout"
        },
        {
          "output_type": "execute_result",
          "data": {
            "text/plain": [
              "{'max_depth': 4, 'max_features': 0.5}"
            ]
          },
          "metadata": {
            "tags": []
          },
          "execution_count": 47
        }
      ]
    },
    {
      "cell_type": "code",
      "metadata": {
        "colab": {
          "base_uri": "https://localhost:8080/"
        },
        "id": "Revhm_2-7Vbe",
        "outputId": "5ffcee86-ed7b-4bc1-b073-65cbf16504bd"
      },
      "source": [
        "modelxg = XGBRegressor(random_state=96,max_depth=4, max_features= 0.5)\n",
        "modelxg.fit(x_train, y_train)\n",
        "modelxg.score(x_test, y_test),modelxg.score(x_train, y_train)"
      ],
      "execution_count": 48,
      "outputs": [
        {
          "output_type": "stream",
          "text": [
            "[07:38:33] WARNING: /workspace/src/objective/regression_obj.cu:152: reg:linear is now deprecated in favor of reg:squarederror.\n"
          ],
          "name": "stdout"
        },
        {
          "output_type": "execute_result",
          "data": {
            "text/plain": [
              "(-0.01158859478137142, 0.21075665432445126)"
            ]
          },
          "metadata": {
            "tags": []
          },
          "execution_count": 48
        }
      ]
    },
    {
      "cell_type": "code",
      "metadata": {
        "colab": {
          "base_uri": "https://localhost:8080/"
        },
        "id": "irioCyER7axO",
        "outputId": "ad3c0726-dd95-43fb-d216-8c5f609bb109"
      },
      "source": [
        "X_train, X_test, y1_train, y1_test = train_test_split(x_values, y_values,test_size=0.2)\n",
        "n_features = X_train.shape[1]\n",
        "# creating model\n",
        "inputs = Input(shape = (n_features,))\n",
        "dense1 = Dense(1024, activation = 'relu')(inputs)\n",
        "dense2 = Dense(1000, activation = 'relu')(dense1)\n",
        "dense3 = Dense(956, activation = 'relu')(dense2)\n",
        "dense4 = Dense(752, activation = 'relu')(dense3)\n",
        "dense5 = Dense(652, activation = 'relu')(dense4)\n",
        "dense6 = Dense(512, activation = 'relu')(dense5)\n",
        "dense7 = Dense(500, activation = 'relu')(dense6)\n",
        "dense8 = Dense(300, activation = 'relu')(dense7)\n",
        "dense9 = Dense(128, activation = 'relu')(dense8)\n",
        "dense10 = Dense(32, activation = 'relu')(dense9)\n",
        " \n",
        "# create output\n",
        "output = Dense(1, activation = 'relu')(dense9)\n",
        " \n",
        "# use output from dense layer 3 to create autoencder output\n",
        "up_dense1 = Dense(128, activation = 'relu')(dense3)\n",
        "up_dense2 = Dense(512, activation = 'relu')(up_dense1)\n",
        "decoded_outputs = Dense(n_features)(up_dense2)\n",
        "model = Model(inputs, [output,decoded_outputs])\n",
        "model.summary()\n",
        "m = 25\n",
        "n_epoch = 25\n",
        "model.compile(optimizer='adam', loss=['binary_crossentropy', 'mse'], metrics = ['accuracy'])\n",
        "model.fit(X_train,[y1_train, X_train], epochs=n_epoch, batch_size=m, shuffle=True)"
      ],
      "execution_count": 34,
      "outputs": [
        {
          "output_type": "stream",
          "text": [
            "Model: \"model\"\n",
            "__________________________________________________________________________________________________\n",
            "Layer (type)                    Output Shape         Param #     Connected to                     \n",
            "==================================================================================================\n",
            "input_1 (InputLayer)            [(None, 3)]          0                                            \n",
            "__________________________________________________________________________________________________\n",
            "dense (Dense)                   (None, 1024)         4096        input_1[0][0]                    \n",
            "__________________________________________________________________________________________________\n",
            "dense_1 (Dense)                 (None, 1000)         1025000     dense[0][0]                      \n",
            "__________________________________________________________________________________________________\n",
            "dense_2 (Dense)                 (None, 956)          956956      dense_1[0][0]                    \n",
            "__________________________________________________________________________________________________\n",
            "dense_3 (Dense)                 (None, 752)          719664      dense_2[0][0]                    \n",
            "__________________________________________________________________________________________________\n",
            "dense_4 (Dense)                 (None, 652)          490956      dense_3[0][0]                    \n",
            "__________________________________________________________________________________________________\n",
            "dense_5 (Dense)                 (None, 512)          334336      dense_4[0][0]                    \n",
            "__________________________________________________________________________________________________\n",
            "dense_6 (Dense)                 (None, 500)          256500      dense_5[0][0]                    \n",
            "__________________________________________________________________________________________________\n",
            "dense_7 (Dense)                 (None, 300)          150300      dense_6[0][0]                    \n",
            "__________________________________________________________________________________________________\n",
            "dense_11 (Dense)                (None, 128)          122496      dense_2[0][0]                    \n",
            "__________________________________________________________________________________________________\n",
            "dense_8 (Dense)                 (None, 128)          38528       dense_7[0][0]                    \n",
            "__________________________________________________________________________________________________\n",
            "dense_12 (Dense)                (None, 512)          66048       dense_11[0][0]                   \n",
            "__________________________________________________________________________________________________\n",
            "dense_10 (Dense)                (None, 1)            129         dense_8[0][0]                    \n",
            "__________________________________________________________________________________________________\n",
            "dense_13 (Dense)                (None, 3)            1539        dense_12[0][0]                   \n",
            "==================================================================================================\n",
            "Total params: 4,166,548\n",
            "Trainable params: 4,166,548\n",
            "Non-trainable params: 0\n",
            "__________________________________________________________________________________________________\n",
            "Epoch 1/25\n",
            "128/128 [==============================] - 4s 4ms/step - loss: -3655.7473 - dense_10_loss: -4637.9042 - dense_13_loss: 982.1572 - dense_10_accuracy: 0.0000e+00 - dense_13_accuracy: 0.9271\n",
            "Epoch 2/25\n",
            "128/128 [==============================] - 0s 4ms/step - loss: -4571.6064 - dense_10_loss: -4592.2924 - dense_13_loss: 20.6868 - dense_10_accuracy: 0.0000e+00 - dense_13_accuracy: 0.9857\n",
            "Epoch 3/25\n",
            "128/128 [==============================] - 0s 4ms/step - loss: -4624.6336 - dense_10_loss: -4627.0440 - dense_13_loss: 2.4112 - dense_10_accuracy: 0.0000e+00 - dense_13_accuracy: 0.9940\n",
            "Epoch 4/25\n",
            "128/128 [==============================] - 0s 4ms/step - loss: -4563.2006 - dense_10_loss: -4563.6703 - dense_13_loss: 0.4703 - dense_10_accuracy: 0.0000e+00 - dense_13_accuracy: 0.9947\n",
            "Epoch 5/25\n",
            "128/128 [==============================] - 0s 4ms/step - loss: -4440.8748 - dense_10_loss: -4444.0379 - dense_13_loss: 3.1632 - dense_10_accuracy: 0.0000e+00 - dense_13_accuracy: 0.9943\n",
            "Epoch 6/25\n",
            "128/128 [==============================] - 0s 4ms/step - loss: -4508.2092 - dense_10_loss: -4522.4006 - dense_13_loss: 14.1913 - dense_10_accuracy: 0.0000e+00 - dense_13_accuracy: 0.9909\n",
            "Epoch 7/25\n",
            "128/128 [==============================] - 0s 4ms/step - loss: -4567.6245 - dense_10_loss: -4569.9759 - dense_13_loss: 2.3513 - dense_10_accuracy: 0.0000e+00 - dense_13_accuracy: 0.9915\n",
            "Epoch 8/25\n",
            "128/128 [==============================] - 0s 3ms/step - loss: -4575.2387 - dense_10_loss: -4576.4078 - dense_13_loss: 1.1693 - dense_10_accuracy: 0.0000e+00 - dense_13_accuracy: 0.9929\n",
            "Epoch 9/25\n",
            "128/128 [==============================] - 0s 4ms/step - loss: -4566.6317 - dense_10_loss: -4568.3596 - dense_13_loss: 1.7287 - dense_10_accuracy: 0.0000e+00 - dense_13_accuracy: 0.9948\n",
            "Epoch 10/25\n",
            "128/128 [==============================] - 0s 4ms/step - loss: -4435.5102 - dense_10_loss: -4438.9288 - dense_13_loss: 3.4188 - dense_10_accuracy: 0.0000e+00 - dense_13_accuracy: 0.9932\n",
            "Epoch 11/25\n",
            "128/128 [==============================] - 0s 3ms/step - loss: -4432.1554 - dense_10_loss: -4436.4209 - dense_13_loss: 4.2656 - dense_10_accuracy: 0.0000e+00 - dense_13_accuracy: 0.9947\n",
            "Epoch 12/25\n",
            "128/128 [==============================] - 0s 4ms/step - loss: -4777.4235 - dense_10_loss: -4802.8269 - dense_13_loss: 25.4047 - dense_10_accuracy: 0.0000e+00 - dense_13_accuracy: 0.9869\n",
            "Epoch 13/25\n",
            "128/128 [==============================] - 0s 4ms/step - loss: -4654.1388 - dense_10_loss: -4664.4952 - dense_13_loss: 10.3555 - dense_10_accuracy: 0.0000e+00 - dense_13_accuracy: 0.9967\n",
            "Epoch 14/25\n",
            "128/128 [==============================] - 0s 4ms/step - loss: -4461.4903 - dense_10_loss: -4462.6449 - dense_13_loss: 1.1540 - dense_10_accuracy: 0.0000e+00 - dense_13_accuracy: 0.9963\n",
            "Epoch 15/25\n",
            "128/128 [==============================] - 0s 4ms/step - loss: -4487.4619 - dense_10_loss: -4489.5198 - dense_13_loss: 2.0588 - dense_10_accuracy: 0.0000e+00 - dense_13_accuracy: 0.9958\n",
            "Epoch 16/25\n",
            "128/128 [==============================] - 0s 4ms/step - loss: -4658.8208 - dense_10_loss: -4659.4687 - dense_13_loss: 0.6482 - dense_10_accuracy: 0.0000e+00 - dense_13_accuracy: 0.9970\n",
            "Epoch 17/25\n",
            "128/128 [==============================] - 0s 3ms/step - loss: -4556.5996 - dense_10_loss: -4556.9325 - dense_13_loss: 0.3333 - dense_10_accuracy: 0.0000e+00 - dense_13_accuracy: 0.9976\n",
            "Epoch 18/25\n",
            "128/128 [==============================] - 0s 4ms/step - loss: -4589.7312 - dense_10_loss: -4591.4854 - dense_13_loss: 1.7531 - dense_10_accuracy: 0.0000e+00 - dense_13_accuracy: 0.9970\n",
            "Epoch 19/25\n",
            "128/128 [==============================] - 0s 4ms/step - loss: -4489.2745 - dense_10_loss: -4491.9219 - dense_13_loss: 2.6469 - dense_10_accuracy: 0.0000e+00 - dense_13_accuracy: 0.9967\n",
            "Epoch 20/25\n",
            "128/128 [==============================] - 0s 4ms/step - loss: -4543.4055 - dense_10_loss: -4544.4738 - dense_13_loss: 1.0682 - dense_10_accuracy: 0.0000e+00 - dense_13_accuracy: 0.9968\n",
            "Epoch 21/25\n",
            "128/128 [==============================] - 0s 3ms/step - loss: -4468.1127 - dense_10_loss: -4470.3112 - dense_13_loss: 2.1986 - dense_10_accuracy: 0.0000e+00 - dense_13_accuracy: 0.9967\n",
            "Epoch 22/25\n",
            "128/128 [==============================] - 0s 4ms/step - loss: -4658.9696 - dense_10_loss: -4659.1714 - dense_13_loss: 0.2018 - dense_10_accuracy: 0.0000e+00 - dense_13_accuracy: 0.9962\n",
            "Epoch 23/25\n",
            "128/128 [==============================] - 0s 4ms/step - loss: -4763.8501 - dense_10_loss: -4764.1616 - dense_13_loss: 0.3109 - dense_10_accuracy: 0.0000e+00 - dense_13_accuracy: 0.9953\n",
            "Epoch 24/25\n",
            "128/128 [==============================] - 1s 4ms/step - loss: -4576.0817 - dense_10_loss: -4592.0331 - dense_13_loss: 15.9515 - dense_10_accuracy: 0.0000e+00 - dense_13_accuracy: 0.9944\n",
            "Epoch 25/25\n",
            "128/128 [==============================] - 0s 4ms/step - loss: -4591.9985 - dense_10_loss: -4665.2700 - dense_13_loss: 73.2710 - dense_10_accuracy: 0.0000e+00 - dense_13_accuracy: 0.9768\n"
          ],
          "name": "stdout"
        },
        {
          "output_type": "execute_result",
          "data": {
            "text/plain": [
              "<tensorflow.python.keras.callbacks.History at 0x7f583d78f910>"
            ]
          },
          "metadata": {
            "tags": []
          },
          "execution_count": 34
        }
      ]
    },
    {
      "cell_type": "code",
      "metadata": {
        "colab": {
          "base_uri": "https://localhost:8080/"
        },
        "id": "7xpQGAUL7zdx",
        "outputId": "29140417-4993-4bcc-f22e-f7f330e452a2"
      },
      "source": [
        "_,_,_,_,acc=model.evaluate(X_test,[y1_test, X_test], batch_size=m,verbose=0)\n",
        "print('Test Accuracy: %.3f' % acc)"
      ],
      "execution_count": 35,
      "outputs": [
        {
          "output_type": "stream",
          "text": [
            "Test Accuracy: 0.989\n"
          ],
          "name": "stdout"
        }
      ]
    },
    {
      "cell_type": "code",
      "metadata": {
        "id": "NVGHvKaYpMcq",
        "colab": {
          "base_uri": "https://localhost:8080/",
          "height": 419
        },
        "outputId": "cc5d2a8f-8740-468a-bbea-377cba7f1a5f"
      },
      "source": [
        "from sklearn.linear_model import LinearRegression\n",
        "reg_model = LinearRegression()\n",
        "reg_model.fit(x_values, y_values)\n",
        "predicted = reg_model.predict(x_values)\n",
        "pandas.DataFrame({'Predicted House Price Values': predicted})"
      ],
      "execution_count": 49,
      "outputs": [
        {
          "output_type": "execute_result",
          "data": {
            "text/html": [
              "<div>\n",
              "<style scoped>\n",
              "    .dataframe tbody tr th:only-of-type {\n",
              "        vertical-align: middle;\n",
              "    }\n",
              "\n",
              "    .dataframe tbody tr th {\n",
              "        vertical-align: top;\n",
              "    }\n",
              "\n",
              "    .dataframe thead th {\n",
              "        text-align: right;\n",
              "    }\n",
              "</style>\n",
              "<table border=\"1\" class=\"dataframe\">\n",
              "  <thead>\n",
              "    <tr style=\"text-align: right;\">\n",
              "      <th></th>\n",
              "      <th>Predicted House Price Values</th>\n",
              "    </tr>\n",
              "  </thead>\n",
              "  <tbody>\n",
              "    <tr>\n",
              "      <th>0</th>\n",
              "      <td>515.601379</td>\n",
              "    </tr>\n",
              "    <tr>\n",
              "      <th>1</th>\n",
              "      <td>302.536987</td>\n",
              "    </tr>\n",
              "    <tr>\n",
              "      <th>2</th>\n",
              "      <td>240.124069</td>\n",
              "    </tr>\n",
              "    <tr>\n",
              "      <th>3</th>\n",
              "      <td>260.532135</td>\n",
              "    </tr>\n",
              "    <tr>\n",
              "      <th>4</th>\n",
              "      <td>266.565521</td>\n",
              "    </tr>\n",
              "    <tr>\n",
              "      <th>...</th>\n",
              "      <td>...</td>\n",
              "    </tr>\n",
              "    <tr>\n",
              "      <th>3995</th>\n",
              "      <td>307.286591</td>\n",
              "    </tr>\n",
              "    <tr>\n",
              "      <th>3996</th>\n",
              "      <td>545.843933</td>\n",
              "    </tr>\n",
              "    <tr>\n",
              "      <th>3997</th>\n",
              "      <td>199.798279</td>\n",
              "    </tr>\n",
              "    <tr>\n",
              "      <th>3998</th>\n",
              "      <td>239.393875</td>\n",
              "    </tr>\n",
              "    <tr>\n",
              "      <th>3999</th>\n",
              "      <td>257.687927</td>\n",
              "    </tr>\n",
              "  </tbody>\n",
              "</table>\n",
              "<p>4000 rows × 1 columns</p>\n",
              "</div>"
            ],
            "text/plain": [
              "      Predicted House Price Values\n",
              "0                       515.601379\n",
              "1                       302.536987\n",
              "2                       240.124069\n",
              "3                       260.532135\n",
              "4                       266.565521\n",
              "...                            ...\n",
              "3995                    307.286591\n",
              "3996                    545.843933\n",
              "3997                    199.798279\n",
              "3998                    239.393875\n",
              "3999                    257.687927\n",
              "\n",
              "[4000 rows x 1 columns]"
            ]
          },
          "metadata": {
            "tags": []
          },
          "execution_count": 49
        }
      ]
    }
  ]
}