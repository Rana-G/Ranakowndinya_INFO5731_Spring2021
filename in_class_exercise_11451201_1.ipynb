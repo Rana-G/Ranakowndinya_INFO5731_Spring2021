{
  "nbformat": 4,
  "nbformat_minor": 0,
  "metadata": {
    "colab": {
      "name": "in_class_exercise_11451201 1.ipynb",
      "provenance": [],
      "include_colab_link": true
    },
    "kernelspec": {
      "name": "python3",
      "display_name": "Python 3"
    }
  },
  "cells": [
    {
      "cell_type": "markdown",
      "metadata": {
        "id": "view-in-github",
        "colab_type": "text"
      },
      "source": [
        "<a href=\"https://colab.research.google.com/github/Rana-G/Ranakowndinya_INFO5731_Spring2021/blob/main/in_class_exercise_11451201_1.ipynb\" target=\"_parent\"><img src=\"https://colab.research.google.com/assets/colab-badge.svg\" alt=\"Open In Colab\"/></a>"
      ]
    },
    {
      "cell_type": "code",
      "metadata": {
        "id": "ar6hok2qe35g",
        "colab": {
          "base_uri": "https://localhost:8080/"
        },
        "outputId": "505b497d-161c-4286-ed32-3b90dd5500b5"
      },
      "source": [
        "#(1) Write a Python program to calculate the length of a string. (2 points)\r\n",
        "\r\n",
        "print(\"enter a string\")\r\n",
        "string=input()\r\n",
        "len=0\r\n",
        "while string[len :]:\r\n",
        "    len +=1\r\n",
        "    \r\n",
        "print(\"the length of the string is\", len)"
      ],
      "execution_count": null,
      "outputs": [
        {
          "output_type": "stream",
          "text": [
            "enter a string\n",
            "rana kowndinya\n",
            "the length of the string is 14\n"
          ],
          "name": "stdout"
        }
      ]
    },
    {
      "cell_type": "code",
      "metadata": {
        "id": "yEVmPT8IgFp2",
        "colab": {
          "base_uri": "https://localhost:8080/"
        },
        "outputId": "1629c397-cdc3-4c4b-89bc-0b1134344f91"
      },
      "source": [
        "#(2) Write a Python program to count the number of characters in a string. (2 points) Sample String : 'google.com‘, Expected Result : {'o': 3, 'g': 2, '.': 1, 'e': 1, 'l': 1, 'm': 1, 'c': 1}\r\n",
        "\r\n",
        "def num_chars(string):\r\n",
        "  dict={}\r\n",
        "  for x in string:\r\n",
        "    keys=dict.keys()\r\n",
        "    if x in keys:\r\n",
        "      dict[x] +=1\r\n",
        "    else:\r\n",
        "      dict[x]=1\r\n",
        "  return dict\r\n",
        "print(num_chars('google.com'))"
      ],
      "execution_count": null,
      "outputs": [
        {
          "output_type": "stream",
          "text": [
            "{'g': 2, 'o': 3, 'l': 1, 'e': 1, '.': 1, 'c': 1, 'm': 1}\n"
          ],
          "name": "stdout"
        }
      ]
    },
    {
      "cell_type": "code",
      "metadata": {
        "colab": {
          "base_uri": "https://localhost:8080/"
        },
        "id": "Vuz4JnvCnTMF",
        "outputId": "2421dbbe-bd14-4117-847f-a9163d267761"
      },
      "source": [
        "#(3) Write a Python program to sum all the items in a list. (2 points)\r\n",
        "lis=input(\"enter items in list with (,) between each element: \")\r\n",
        "sum=0\r\n",
        "for i in lis.split(\",\"):\r\n",
        "  sum=sum+int(i)\r\n",
        "print(\"sum of the elements is: \",sum)"
      ],
      "execution_count": null,
      "outputs": [
        {
          "output_type": "stream",
          "text": [
            "enter items in list with (,) between each element: 8,9,2\n",
            "sum of the elements is:  19\n"
          ],
          "name": "stdout"
        }
      ]
    },
    {
      "cell_type": "code",
      "metadata": {
        "colab": {
          "base_uri": "https://localhost:8080/"
        },
        "id": "KSZVqiqAnTdF",
        "outputId": "ceb4fe5f-0b48-47c9-f6b5-4e3fa1fc655a"
      },
      "source": [
        "#(4) Write a Python program to get a string from a given string where all occurrences of its first char have been changed to '\\$', except the first char itself. (2 points) Sample String : 'restart‘,Expected Result : 'resta\\$t'\r\n",
        "\r\n",
        "x=str(input(\"enter a string: \"))\r\n",
        "first_char=x[0]\r\n",
        "s=s.replace(first_char,\"$\")\r\n",
        "print(first_char+x[1:])"
      ],
      "execution_count": null,
      "outputs": [
        {
          "output_type": "stream",
          "text": [
            "enter a string: rockstar\n",
            "rockstar\n"
          ],
          "name": "stdout"
        }
      ]
    },
    {
      "cell_type": "code",
      "metadata": {
        "colab": {
          "base_uri": "https://localhost:8080/"
        },
        "id": "lS1KyERonTjQ",
        "outputId": "0bbc8b75-0a43-46a2-94e5-1b5f85c202a6"
      },
      "source": [
        "#(5) Write a program with python which could accept two parameter a and b to calculate and output the result of S, where $\\ S=3.14*(1+a/b)^3$ (3 points)\r\n",
        "print(\"type 1st number\")\r\n",
        "x=float(input())\r\n",
        "print(\"type 2nd number\")\r\n",
        "y=float(input())\r\n",
        "def calculate(a,b):\r\n",
        "  if a==0 and b==0:\r\n",
        "    print(\"please enter numbers greater than 0 for a and b\")\r\n",
        "    return print\r\n",
        "  else:\r\n",
        "    A=3.14*(1+a/b)**3\r\n",
        "    return A\r\n",
        "print(calculate(x,y))"
      ],
      "execution_count": null,
      "outputs": [
        {
          "output_type": "stream",
          "text": [
            "type 1st number\n",
            "2\n",
            "type 2nd number\n",
            "3\n",
            "14.537037037037033\n"
          ],
          "name": "stdout"
        }
      ]
    },
    {
      "cell_type": "code",
      "metadata": {
        "colab": {
          "base_uri": "https://localhost:8080/"
        },
        "id": "fY4Hl_i3nTmS",
        "outputId": "83b3e6f4-d518-4631-896a-7197f61f12aa"
      },
      "source": [
        "#Write a Python program to concatenate following dictionaries to create a new one. (3 points) Sample Dictionary : dic1={1:10, 2:20}, dic2={3:30, 4:40}, dic3={5:50,6:60}, Expected Result : {1: 10, 2: 20, 3: 30, 4: 40, 5: 50, 6: 60}\r\n",
        "dic1={1:10,2:20}\r\n",
        "dic2={3:30,4:30}\r\n",
        "dic3={5:50,6:60}\r\n",
        "dic4={}\r\n",
        "for x in (dic1,dic2,dic3): dic4.update(x)\r\n",
        "print(dic4)"
      ],
      "execution_count": null,
      "outputs": [
        {
          "output_type": "stream",
          "text": [
            "{1: 10, 2: 20, 3: 30, 4: 30, 5: 50, 6: 60}\n"
          ],
          "name": "stdout"
        }
      ]
    },
    {
      "cell_type": "code",
      "metadata": {
        "colab": {
          "base_uri": "https://localhost:8080/"
        },
        "id": "IPAZyhadnTpE",
        "outputId": "00819532-d86f-432f-90b1-a53c9df38dac"
      },
      "source": [
        "#(7) Write a Python program to check whether an element exists within a tuple. (3 points)\r\n",
        "\r\n",
        "X=input(\"enter element in tuple with (,): \")\r\n",
        "find=input(\"enter number to know weather exist in tuple: \")\r\n",
        "list=X.split(\",\")\r\n",
        "Y=tuple(list)\r\n",
        "if find in Y:\r\n",
        "  print(\"the element exists\")\r\n",
        "else:\r\n",
        "  print(\"there is no existence of this number\")"
      ],
      "execution_count": null,
      "outputs": [
        {
          "output_type": "stream",
          "text": [
            "enter element in tuple with (,): 23,45,232,64,23,8,2,4\n",
            "enter number to know weather exist in tuple: 1\n",
            "there is no existence of this number\n"
          ],
          "name": "stdout"
        }
      ]
    },
    {
      "cell_type": "code",
      "metadata": {
        "colab": {
          "base_uri": "https://localhost:8080/"
        },
        "id": "zmzndyCWwpUj",
        "outputId": "c7c8d651-03e0-4912-9d4b-e0d3fe3810dc"
      },
      "source": [
        "(8) #Write a Python program to find maximum and the minimum value in a set. (3 points)\r\n",
        "X=input(\"enter set values with (,) after each element:\")\r\n",
        "list=X.split(\",\")\r\n",
        "Y=set(list)\r\n",
        "print(\"max value in the set\",max(Y))\r\n",
        "print(\"min value in the set\",min(Y))"
      ],
      "execution_count": null,
      "outputs": [
        {
          "output_type": "stream",
          "text": [
            "enter set values with (,) after each element:23,45,23,67,44,24,5,644\n",
            "max value in the set 67\n",
            "min value in the set 23\n"
          ],
          "name": "stdout"
        }
      ]
    },
    {
      "cell_type": "code",
      "metadata": {
        "colab": {
          "base_uri": "https://localhost:8080/"
        },
        "id": "-dYiTN-_wp6H",
        "outputId": "353f90c7-674f-4978-8b2d-d3e87887418a"
      },
      "source": [
        "#(9) Write a Python program to randomly divide the students in this class into five groups for term projects, each group should have at least 3 students but no more than 5 students (including 5). Here is the students list: (3 points for extra) studnet_list = ['vmb0067','pc0353','snd0097','yye0005','sg0940','bk0301','rak0120','rrk0058','spk0057','vl0135','nm0547','pn0159', 'msp0174','dd0420','ds0761','rs0850','ss1995','at0739','at0768','mv0299','tv0119','dy0091']\r\n",
        "import random\r\n",
        "std_lis = ['vmb0067','pc0353','snd0097','yye0005','sg0940','bk0301','rak0120','rrk0058','spk0057','vl0135','nm0547','pn0159', \r\n",
        "                'msp0174','dd0420','ds0761','rs0850','ss1995','at0739','at0768','mv0299','tv0119','dy0091']\r\n",
        "\r\n",
        "def list(l):\r\n",
        "  X=0\r\n",
        "  for Y in l:\r\n",
        "    X=X+1\r\n",
        "  return X\r\n",
        "group=[]\r\n",
        "while list(std_lis)>=5:\r\n",
        "  random.shuffle(std_lis)\r\n",
        "  group.append(std_lis[ :3])\r\n",
        "  std_lis.pop(0)\r\n",
        "  std_lis.pop(0)\r\n",
        "  std_lis.pop(0)\r\n",
        "group.append(std_lis)\r\n",
        "print(group)"
      ],
      "execution_count": null,
      "outputs": [
        {
          "output_type": "stream",
          "text": [
            "[['tv0119', 'vmb0067', 'yye0005'], ['rak0120', 'mv0299', 'dy0091'], ['sg0940', 'at0739', 'nm0547'], ['ds0761', 'spk0057', 'bk0301'], ['msp0174', 'pn0159', 'dd0420'], ['pc0353', 'rrk0058', 'vl0135'], ['rs0850', 'ss1995', 'at0768', 'snd0097']]\n"
          ],
          "name": "stdout"
        }
      ]
    }
  ]
}