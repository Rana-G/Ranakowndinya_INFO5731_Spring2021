{
 "cells": [
  {
   "cell_type": "markdown",
   "metadata": {
    "colab_type": "text",
    "id": "view-in-github"
   },
   "source": [
    "<a href=\"https://colab.research.google.com/github/bhavya2810/Bhavya_INFO5731/blob/master/In_class_exercise_03.ipynb\" target=\"_parent\"><img src=\"https://colab.research.google.com/assets/colab-badge.svg\" alt=\"Open In Colab\"/></a>"
   ]
  },
  {
   "cell_type": "markdown",
   "metadata": {
    "colab_type": "text",
    "id": "Cybd2iJg05FR"
   },
   "source": [
    "## The third In-class-exercise (9/16/2020, 20 points in total)"
   ]
  },
  {
   "cell_type": "markdown",
   "metadata": {
    "colab_type": "text",
    "id": "Y1LqGduE05FS"
   },
   "source": [
    "The purpose of this exercise is to under users' information needs, then collect the data for analysis."
   ]
  },
  {
   "cell_type": "markdown",
   "metadata": {
    "colab_type": "text",
    "id": "N_gkPHih05FS"
   },
   "source": [
    "Question 1 (8 points): Describe an interesting research question (or practical question) you have in mind, what kind of data should be collected to answer the question(s)? How many data needed for the analysis? The detail steps for collecting and save the data. "
   ]
  },
  {
   "cell_type": "markdown",
   "metadata": {
    "colab": {},
    "colab_type": "code",
    "id": "WunU3RqS05FT"
   },
   "source": [
    "Research question - What is the review of Apple Iphone 11 Black 64 GB . Whether it has positive reviews or negative reviews.\n",
    "Data required for this research is reviews of the customers who already bought the mobile phone and using it. Ecommerce website contains the reviews of the product. I have choosen the Flipkart to collect the reviews of the Apple Iphone Black 11 64GB. We can analyze the reviews by considering the words in them that is whether the user customer has written in a positive way\n",
    "or negative way. We need minimum 500 reviews to get nearly accurate results.\n",
    "\n",
    "Steps for Collecting and Saving Data:\n",
    "- The BeautifulSoup library is used here to extract the information from the website.\n",
    "- I have extracted the reviews by using the classname and then appended to empty list.\n",
    "- To extract 500 reviews I have itearted 50 times as each page contains up to 10 reviews and I have generated the url dynamically while iterating through reviews.\n",
    "- Then created a dataframe from the list and then converted dataframe to csv\n",
    "\n",
    "\n",
    "\n",
    "\n"
   ]
  },
  {
   "cell_type": "markdown",
   "metadata": {
    "colab_type": "text",
    "id": "Slyn2AWb05FV"
   },
   "source": [
    "Question 2 (12 points): Write python code to collect 500 items of the data you plan to collect above."
   ]
  },
  {
   "cell_type": "code",
   "execution_count": 16,
   "metadata": {
    "colab": {
     "base_uri": "https://localhost:8080/",
     "height": 418
    },
    "colab_type": "code",
    "id": "ylVqvYS605FV",
    "outputId": "0304c57a-ae9c-4a8b-df46-fd0b52aedccc"
   },
   "outputs": [
    {
     "name": "stdout",
     "output_type": "stream",
     "text": [
      "Length of data frame is 509\n"
     ]
    },
    {
     "data": {
      "text/html": [
       "<div>\n",
       "<style scoped>\n",
       "    .dataframe tbody tr th:only-of-type {\n",
       "        vertical-align: middle;\n",
       "    }\n",
       "\n",
       "    .dataframe tbody tr th {\n",
       "        vertical-align: top;\n",
       "    }\n",
       "\n",
       "    .dataframe thead th {\n",
       "        text-align: right;\n",
       "    }\n",
       "</style>\n",
       "<table border=\"1\" class=\"dataframe\">\n",
       "  <thead>\n",
       "    <tr style=\"text-align: right;\">\n",
       "      <th></th>\n",
       "      <th>Glimpse of Review</th>\n",
       "      <th>Full Review</th>\n",
       "    </tr>\n",
       "  </thead>\n",
       "  <tbody>\n",
       "    <tr>\n",
       "      <th>0</th>\n",
       "      <td>Brilliant</td>\n",
       "      <td>The Best Phone for the MoneyThe iPhone 11 offe...</td>\n",
       "    </tr>\n",
       "    <tr>\n",
       "      <th>1</th>\n",
       "      <td>Perfect product!</td>\n",
       "      <td>Amazing phone with great cameras and better ba...</td>\n",
       "    </tr>\n",
       "    <tr>\n",
       "      <th>2</th>\n",
       "      <td>Great product</td>\n",
       "      <td>Amazing Powerful and Durable Gadget.I’m am ver...</td>\n",
       "    </tr>\n",
       "    <tr>\n",
       "      <th>3</th>\n",
       "      <td>Worth every penny</td>\n",
       "      <td>Previously I was using one plus 3t it was a gr...</td>\n",
       "    </tr>\n",
       "    <tr>\n",
       "      <th>4</th>\n",
       "      <td>Good choice</td>\n",
       "      <td>So far it’s been an AMAZING experience coming ...</td>\n",
       "    </tr>\n",
       "    <tr>\n",
       "      <th>...</th>\n",
       "      <td>...</td>\n",
       "      <td>...</td>\n",
       "    </tr>\n",
       "    <tr>\n",
       "      <th>504</th>\n",
       "      <td>Perfect product!</td>\n",
       "      <td>Original product for apple and security seal p...</td>\n",
       "    </tr>\n",
       "    <tr>\n",
       "      <th>505</th>\n",
       "      <td>Mind-blowing purchase</td>\n",
       "      <td>Good phone by apple battery is far better ( on...</td>\n",
       "    </tr>\n",
       "    <tr>\n",
       "      <th>506</th>\n",
       "      <td>Brilliant</td>\n",
       "      <td>Love itREAD MORE</td>\n",
       "    </tr>\n",
       "    <tr>\n",
       "      <th>507</th>\n",
       "      <td>Perfect product!</td>\n",
       "      <td>All are good not giving charger and earphones ...</td>\n",
       "    </tr>\n",
       "    <tr>\n",
       "      <th>508</th>\n",
       "      <td>Highly recommended</td>\n",
       "      <td>Decided to buy Iphone 11 over Iphone xr, and a...</td>\n",
       "    </tr>\n",
       "  </tbody>\n",
       "</table>\n",
       "<p>509 rows × 2 columns</p>\n",
       "</div>"
      ],
      "text/plain": [
       "         Glimpse of Review                                        Full Review\n",
       "0                Brilliant  The Best Phone for the MoneyThe iPhone 11 offe...\n",
       "1         Perfect product!  Amazing phone with great cameras and better ba...\n",
       "2            Great product  Amazing Powerful and Durable Gadget.I’m am ver...\n",
       "3        Worth every penny  Previously I was using one plus 3t it was a gr...\n",
       "4              Good choice  So far it’s been an AMAZING experience coming ...\n",
       "..                     ...                                                ...\n",
       "504       Perfect product!  Original product for apple and security seal p...\n",
       "505  Mind-blowing purchase  Good phone by apple battery is far better ( on...\n",
       "506              Brilliant                                   Love itREAD MORE\n",
       "507       Perfect product!  All are good not giving charger and earphones ...\n",
       "508     Highly recommended  Decided to buy Iphone 11 over Iphone xr, and a...\n",
       "\n",
       "[509 rows x 2 columns]"
      ]
     },
     "execution_count": 16,
     "metadata": {},
     "output_type": "execute_result"
    }
   ],
   "source": [
    "import requests\n",
    "from bs4 import BeautifulSoup\n",
    "import pandas as pd\n",
    "main_text = [] # List to store Review headings\n",
    "sub_text =[] #List to store reviews\n",
    "for number in range(52):\n",
    "  link = \"https://www.flipkart.com/apple-iphone-11-black-64-gb/product-reviews/itm4e5041ba101fd?pid=MOBFWQ6BXGJCEYNY&lid=LSTMOBFWQ6BXGJCEYNYZE3ENS&marketplace=FLIPKART&page=\" + str(number) # Generating link dynamically\n",
    "  page = requests.get(link) # Accessing the webpage\n",
    "  soup = BeautifulSoup(page.text, 'html.parser')\n",
    "  main_reviews = soup.find_all(class_='_2-N8zT') # Getting the Review Heading by using the class name\n",
    "  text_reviews = soup.find_all(class_='t-ZTKy') # Getting the full reviews by using the class name\n",
    "  for ele, sub_ele in zip(main_reviews, text_reviews) : # Iterating through the list\n",
    "        main_text.append(ele.text) #Appending to empty list \n",
    "        sub_text.append(sub_ele.text)\n",
    "        \n",
    "df = pd.DataFrame(list(zip(main_text, sub_text)), columns =['Glimpse of Review', 'Full Review'])  # Creating Dataframe\n",
    "print(\"Length of data frame is {0}\".format(len(df)))\n",
    "df\n",
    "\n"
   ]
  },
  {
   "cell_type": "code",
   "execution_count": 4,
   "metadata": {
    "colab": {},
    "colab_type": "code",
    "id": "_B8yaQHnx90t"
   },
   "outputs": [],
   "source": [
    "df.to_csv('data.csv', index=False) #Converting to csv file from dataframe"
   ]
  },
  {
   "cell_type": "code",
   "execution_count": null,
   "metadata": {
    "colab": {},
    "colab_type": "code",
    "id": "xSx7oAzCzQ6W"
   },
   "outputs": [],
   "source": []
  }
 ],
 "metadata": {
  "colab": {
   "include_colab_link": true,
   "name": "In-class-exercise-03.ipynb",
   "provenance": []
  },
  "kernelspec": {
   "display_name": "Python 3",
   "language": "python",
   "name": "python3"
  },
  "language_info": {
   "codemirror_mode": {
    "name": "ipython",
    "version": 3
   },
   "file_extension": ".py",
   "mimetype": "text/x-python",
   "name": "python",
   "nbconvert_exporter": "python",
   "pygments_lexer": "ipython3",
   "version": "3.8.5"
  }
 },
 "nbformat": 4,
 "nbformat_minor": 1
}
