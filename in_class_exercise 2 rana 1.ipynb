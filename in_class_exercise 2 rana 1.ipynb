{
  "nbformat": 4,
  "nbformat_minor": 0,
  "metadata": {
    "colab": {
      "name": "Untitled1.ipynb",
      "provenance": []
    },
    "kernelspec": {
      "name": "python3",
      "display_name": "Python 3"
    }
  },
  "cells": [
    {
      "cell_type": "code",
      "metadata": {
        "colab": {
          "base_uri": "https://localhost:8080/"
        },
        "id": "x8-bInA00ipO",
        "outputId": "2d1ea9cc-3fc5-4e39-a4e3-96e408be24f4"
      },
      "source": [
        "#(1) Write a Python program to find the duplicate elements in a given array of integers. Return -1 If there are no such elements. (4 points)\r\n",
        "\r\n",
        "from collections import Counter \r\n",
        "def Checkforduplicates(array) :\r\n",
        "    givenset=set(array)\r\n",
        "    if(len(array)==len(givenset)):\r\n",
        "        return -1\r\n",
        "    else:\r\n",
        "        dic=Counter(array)           \r\n",
        "        duplicate=[];              \r\n",
        "        for X in dic:\r\n",
        "            if(dic[X]==2):        \r\n",
        "                duplicate.append(X)\r\n",
        "        return duplicate\r\n",
        "\r\n",
        "def result(array):\r\n",
        "     \r\n",
        "    a=Checkforduplicates(array)\r\n",
        "    if(a==-1):\r\n",
        "        print(\"There are no duplicates:\",a)\r\n",
        "    else:    \r\n",
        "        print(\"The duplicates are:\",a)\r\n",
        "array = [1,3,4,4,5,5,6,7,8,8,8,9,9,9]\r\n",
        "array2=[1,2,3,4,5,6,6,7]\r\n",
        "result(array)\r\n",
        "result(array2)"
      ],
      "execution_count": 24,
      "outputs": [
        {
          "output_type": "stream",
          "text": [
            "The duplicates are: [4, 5]\n",
            "The duplicates are: [6]\n"
          ],
          "name": "stdout"
        }
      ]
    },
    {
      "cell_type": "code",
      "metadata": {
        "colab": {
          "base_uri": "https://localhost:8080/"
        },
        "id": "1Gbn8DJlf5zF",
        "outputId": "20645cab-e828-4fb9-ad89-12efdc077b73"
      },
      "source": [
        "#(2) Write a Python program to select all the Sundays of a specified year. (4 points)\r\n",
        "\r\n",
        "from datetime import date\r\n",
        "import calendar\r\n",
        "Year= 2020\r\n",
        "C=calendar.TextCalendar(calendar.SUNDAY)\r\n",
        "for X in range(1,13):\r\n",
        "    for P in C.itermonthdays(Year,X):\r\n",
        "        if P!=0:\r\n",
        "            day=date(Year,X,P)\r\n",
        "            if day.weekday()==6:\r\n",
        "                print(\"%s,%d-%d-%d\" % (calendar.day_name[6] ,X,P,Year))"
      ],
      "execution_count": 27,
      "outputs": [
        {
          "output_type": "stream",
          "text": [
            "Sunday,1-5-2020\n",
            "Sunday,1-12-2020\n",
            "Sunday,1-19-2020\n",
            "Sunday,1-26-2020\n",
            "Sunday,2-2-2020\n",
            "Sunday,2-9-2020\n",
            "Sunday,2-16-2020\n",
            "Sunday,2-23-2020\n",
            "Sunday,3-1-2020\n",
            "Sunday,3-8-2020\n",
            "Sunday,3-15-2020\n",
            "Sunday,3-22-2020\n",
            "Sunday,3-29-2020\n",
            "Sunday,4-5-2020\n",
            "Sunday,4-12-2020\n",
            "Sunday,4-19-2020\n",
            "Sunday,4-26-2020\n",
            "Sunday,5-3-2020\n",
            "Sunday,5-10-2020\n",
            "Sunday,5-17-2020\n",
            "Sunday,5-24-2020\n",
            "Sunday,5-31-2020\n",
            "Sunday,6-7-2020\n",
            "Sunday,6-14-2020\n",
            "Sunday,6-21-2020\n",
            "Sunday,6-28-2020\n",
            "Sunday,7-5-2020\n",
            "Sunday,7-12-2020\n",
            "Sunday,7-19-2020\n",
            "Sunday,7-26-2020\n",
            "Sunday,8-2-2020\n",
            "Sunday,8-9-2020\n",
            "Sunday,8-16-2020\n",
            "Sunday,8-23-2020\n",
            "Sunday,8-30-2020\n",
            "Sunday,9-6-2020\n",
            "Sunday,9-13-2020\n",
            "Sunday,9-20-2020\n",
            "Sunday,9-27-2020\n",
            "Sunday,10-4-2020\n",
            "Sunday,10-11-2020\n",
            "Sunday,10-18-2020\n",
            "Sunday,10-25-2020\n",
            "Sunday,11-1-2020\n",
            "Sunday,11-8-2020\n",
            "Sunday,11-15-2020\n",
            "Sunday,11-22-2020\n",
            "Sunday,11-29-2020\n",
            "Sunday,12-6-2020\n",
            "Sunday,12-13-2020\n",
            "Sunday,12-20-2020\n",
            "Sunday,12-27-2020\n"
          ],
          "name": "stdout"
        }
      ]
    },
    {
      "cell_type": "code",
      "metadata": {
        "id": "dbpOrqUEf51z"
      },
      "source": [
        "#(3) Python files reading and writing. Download the “exercise_02_data _collection.zip” to your local and un-zip it. Write a program to read all the txt files and save the sentences in all the files into one csv file with two columns, the first column is sentence id (txt file name+sentence line number), the second column is the sentence text content. (4 points) Remove all the punctuations from the sentences, save the processed sentences into a new column in the same csv file. (4 points) Ask the user to enter a word, return all the sentences that include this word, three kinds of information should be returned: sentence id, sentence text content, the count that user input word appear in the sentence. (4 points)\r\n",
        "\r\n",
        "\r\n"
      ],
      "execution_count": 39,
      "outputs": []
    },
    {
      "cell_type": "code",
      "metadata": {
        "colab": {
          "base_uri": "https://localhost:8080/"
        },
        "id": "rFiGDAOI2vYa",
        "outputId": "deab00e6-70aa-40bc-d8e2-f66a50724766"
      },
      "source": [
        "#4Install packages nltk, numpy, scipy, pandas, and sklearn on Google Colab. Write a program to test whether they are installed successfully. (3 points for extra)\r\n",
        "try:\r\n",
        "    import pandas as pd\r\n",
        "    print('pandas installed - version is - '+pd.__version__)\r\n",
        "    import numpy as np\r\n",
        "    print('numpy installed - version is - '+np.version.version)\r\n",
        "    import scipy as sc\r\n",
        "    print('scipy installed - version is - '+sc.version.version)  \r\n",
        "    import nltk\r\n",
        "    print('nltk installed -  version is - '+nltk.__version__)\r\n",
        "    import sklearn\r\n",
        "    print('scikit-learn installed - version is '+sklearn.__version__)\r\n",
        "except:\r\n",
        "    print('Required Packages not installed')"
      ],
      "execution_count": 47,
      "outputs": [
        {
          "output_type": "stream",
          "text": [
            "pandas installed - version is - 1.1.5\n",
            "numpy installed - version is - 1.19.5\n",
            "scipy installed - version is - 1.4.1\n",
            "nltk installed -  version is - 3.2.5\n",
            "scikit-learn installed - version is 0.22.2.post1\n"
          ],
          "name": "stdout"
        }
      ]
    }
  ]
}