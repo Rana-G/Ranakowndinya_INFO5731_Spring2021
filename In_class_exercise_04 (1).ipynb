{
  "nbformat": 4,
  "nbformat_minor": 0,
  "metadata": {
    "colab": {
      "name": "In_class_exercise_04.ipynb",
      "provenance": [],
      "collapsed_sections": []
    },
    "kernelspec": {
      "display_name": "Python 3",
      "language": "python",
      "name": "python3"
    },
    "language_info": {
      "codemirror_mode": {
        "name": "ipython",
        "version": 3
      },
      "file_extension": ".py",
      "mimetype": "text/x-python",
      "name": "python",
      "nbconvert_exporter": "python",
      "pygments_lexer": "ipython3",
      "version": "3.8.5"
    }
  },
  "cells": [
    {
      "cell_type": "markdown",
      "metadata": {
        "id": "s-vTOb03hG1f"
      },
      "source": [
        "# 1. Text Data Preprocessing\n",
        "\n",
        "Here is a [legal case](https://github.com/unt-iialab/info5731_spring2021/blob/main/class_exercises/01-05-1%20%20Adams%20v%20Tanner.txt) we collected from westlaw, please follow the steps we mentioned in lesson 5 to clean the data:\n",
        "\n",
        "\n",
        "\n",
        "## 1.1 Basic feature extraction using text data (4 points)\n",
        "\n",
        "*   Number of sentences\n",
        "*   Number of words\n",
        "*   Number of characters\n",
        "*   Average word length\n",
        "*   Number of stopwords\n",
        "*   Number of special characters\n",
        "*   Number of numerics\n",
        "*   Number of uppercase words\n",
        "\n",
        "## 1.2 Basic Text Pre-processing of text data (4 points)\n",
        "\n",
        "*   Lower casing\n",
        "*   Punctuation removal\n",
        "*   Stopwords removal\n",
        "*   Frequent words removal\n",
        "*   Rare words removal\n",
        "*   Spelling correction\n",
        "*   Tokenization\n",
        "*   Stemming\n",
        "*   Lemmatization\n",
        "\n",
        "## 1.3 Save all the **clean sentences** to a **csv file** (one column, each raw is a sentence) after finishing all the steps above. (4 points)\n",
        "\n",
        "\n",
        "## 1.4 Advance Text Processing (Extra credit: 4 points)\n",
        "\n",
        "*   Calculate the term frequency of all the terms.\n",
        "*   Print out top 10 1-gram, top 10 2-grams, and top 10 3-grams terms as features.\n"
      ]
    },
    {
      "cell_type": "code",
      "metadata": {
        "colab": {
          "base_uri": "https://localhost:8080/"
        },
        "id": "vR0L3_CreM_A",
        "outputId": "86b14378-8094-4580-cd70-35b3ec267bee"
      },
      "source": [
        "with open('01-05-1  Adams v Tanner.txt', 'r') as file:\n",
        "    f = file.read()\n",
        "    w=f.split()\n",
        "    print('Number of sentences:', f.count('.'))\n",
        "    print('Number of words:', len(w))\n",
        "    print(\"Number of charachters:\", len(f))\n",
        "    c=0\n",
        "    for i in w:\n",
        "      c=c+len(i)\n",
        "    print(\"Average word lenght:\",c/len(w))\n",
        "from nltk.corpus import stopwords\n",
        "import nltk\n",
        "nltk.download(\"stopwords\")\n",
        "s=stopwords.words(\"english\")\n",
        "print(s)\n",
        "stopwordcount=0\n",
        "for i in w:\n",
        "  if i in stop:\n",
        "    stopwordcount=stopwordcount+1\n",
        "print(\"Number of stopwords\",stopwordcount)\n",
        "specialcharachter=['$','#','(',')','\"','@','?','*','!','%','^','&']\n",
        "specialcount=0\n",
        "for i in f:\n",
        "  if i in specialcharachter:\n",
        "    specialcount=specialcount+1\n",
        "print(\"Number of special charachters\",specialcount)\n",
        "numbercount=0\n",
        "for i in f:\n",
        "  if i.isdigit():\n",
        "    numbercount=numbercount+1\n",
        "print(\"Number of numberics\",numbercount)\n",
        "uppercount=0\n",
        "for i in f:\n",
        "  if i.isupper():\n",
        "    uppercount=uppercount+1\n",
        "print(\"Number of uppercase words\",uppercount)\n",
        "#1.2\n",
        "import pandas as pd\n",
        "import nltk\n",
        "nltk.download('punkt')\n",
        "from nltk.tokenize import sent_tokenize, word_tokenize\n",
        "t=nltk.tokenize.sent_tokenize(file_contents)\n",
        "n={'content':t}\n",
        "df=pd.DataFrame(data=n)\n",
        "df['content'] = df['content'].apply(lambda x: \" \".join(x.lower() for x in x.split()))\n",
        "print(\"lower casing\",df['content'].head())\n",
        "df['content'] = df['content'].str.replace('[^\\w\\s]','')\n",
        "print(\"punctuaion removal\",df['content'].head())\n",
        "df['content'] = df['content'].apply(lambda x: \" \".join(x for x in x.split() if x not in stop))\n",
        "print(\"stopwords removal\",df['content'].head())\n",
        "f=pd.Series(' '.join(df['content']).split()).value_counts()[:10]\n",
        "f=list(f.index)\n",
        "df['content']=df['content'].apply(lambda x: \" \".join(x for x in x.split() if x not in freq))\n",
        "print(\"frequent words removal\",df['content'].head())\n",
        "freq_lower = pd.Series(' '.join(df['content']).split()).value_counts()[-10:]\n",
        "freq_lower=list(freq_lower.index)\n",
        "df['content'] = df['content'].apply(lambda x: \" \".join(x for x in x.split() if x not in freq_lower))\n",
        "print(\"rare words removal\",df['content'].head())\n",
        "from textblob import TextBlob\n",
        "df['content'][:5].apply(lambda x: str(TextBlob(x).correct()))\n",
        "print(\"spelling correction\",df['content'].head())\n",
        "print(\"Tokenization\",TextBlob(df['content'][1]).words)\n",
        "from nltk.stem import PorterStemmer\n",
        "st = PorterStemmer()\n",
        "print(\"stemming\",df['content'][:5].apply(lambda x: \" \".join([st.stem(word) for word in x.split()])))\n",
        "from textblob import Word\n",
        "import nltk\n",
        "nltk.download('wordnet')\n",
        "df['content'] = df['content'].apply(lambda x: \" \".join([Word(word).lemmatize() for word in x.split()]))\n",
        "print(\"lemmeatiaztion\",df['content'].head())\n",
        "#1.3\n",
        "df.to_csv('out_csv.csv',index=False)\n",
        "#1.4\n",
        "termfrequency=(df['content'][1:2]).apply(lambda x:pd.value_counts(x.split(\" \"))).sum(axis=0).reset_index()\n",
        "termfrequency.columns=['words','tf']\n",
        "print(termfrequency)\n",
        "print(TextBlob(df['content'][0]).ngrams(1))\n",
        "print(TextBlob(df['content'][0]).ngrams(2))\n",
        "print(TextBlob(df['content'][0]).ngrams(3))"
      ],
      "execution_count": null,
      "outputs": [
        {
          "output_type": "stream",
          "text": [
            "Number of sentences: 291\n",
            "Number of words: 3707\n",
            "Number of charachters: 20454\n",
            "Average word lenght: 4.510385756676558\n",
            "[nltk_data] Downloading package stopwords to /root/nltk_data...\n",
            "[nltk_data]   Package stopwords is already up-to-date!\n",
            "['i', 'me', 'my', 'myself', 'we', 'our', 'ours', 'ourselves', 'you', \"you're\", \"you've\", \"you'll\", \"you'd\", 'your', 'yours', 'yourself', 'yourselves', 'he', 'him', 'his', 'himself', 'she', \"she's\", 'her', 'hers', 'herself', 'it', \"it's\", 'its', 'itself', 'they', 'them', 'their', 'theirs', 'themselves', 'what', 'which', 'who', 'whom', 'this', 'that', \"that'll\", 'these', 'those', 'am', 'is', 'are', 'was', 'were', 'be', 'been', 'being', 'have', 'has', 'had', 'having', 'do', 'does', 'did', 'doing', 'a', 'an', 'the', 'and', 'but', 'if', 'or', 'because', 'as', 'until', 'while', 'of', 'at', 'by', 'for', 'with', 'about', 'against', 'between', 'into', 'through', 'during', 'before', 'after', 'above', 'below', 'to', 'from', 'up', 'down', 'in', 'out', 'on', 'off', 'over', 'under', 'again', 'further', 'then', 'once', 'here', 'there', 'when', 'where', 'why', 'how', 'all', 'any', 'both', 'each', 'few', 'more', 'most', 'other', 'some', 'such', 'no', 'nor', 'not', 'only', 'own', 'same', 'so', 'than', 'too', 'very', 's', 't', 'can', 'will', 'just', 'don', \"don't\", 'should', \"should've\", 'now', 'd', 'll', 'm', 'o', 're', 've', 'y', 'ain', 'aren', \"aren't\", 'couldn', \"couldn't\", 'didn', \"didn't\", 'doesn', \"doesn't\", 'hadn', \"hadn't\", 'hasn', \"hasn't\", 'haven', \"haven't\", 'isn', \"isn't\", 'ma', 'mightn', \"mightn't\", 'mustn', \"mustn't\", 'needn', \"needn't\", 'shan', \"shan't\", 'shouldn', \"shouldn't\", 'wasn', \"wasn't\", 'weren', \"weren't\", 'won', \"won't\", 'wouldn', \"wouldn't\"]\n",
            "Number of stopwords 1679\n",
            "Number of special charachters 43\n",
            "Number of numberics 356\n",
            "Number of uppercase words 695\n",
            "[nltk_data] Downloading package punkt to /root/nltk_data...\n",
            "[nltk_data]   Package punkt is already up-to-date!\n",
            "lower casing 0                 5 ala. 740 supreme court of alabama.\n",
            "1                          adams v. tanner and horton.\n",
            "2                                     june term, 1843.\n",
            "3    synopsis writ of error to the circuit court of...\n",
            "4    west headnotes (2) [1] chattel mortgages crops...\n",
            "Name: content, dtype: object\n",
            "punctuaion removal 0                   5 ala 740 supreme court of alabama\n",
            "1                            adams v tanner and horton\n",
            "2                                       june term 1843\n",
            "3    synopsis writ of error to the circuit court of...\n",
            "4    west headnotes 2 1 chattel mortgages crops a g...\n",
            "Name: content, dtype: object\n",
            "stopwords removal 0                      5 ala 740 supreme court alabama\n",
            "1                                adams v tanner horton\n",
            "2                                       june term 1843\n",
            "3             synopsis writ error circuit court sumter\n",
            "4    west headnotes 2 1 chattel mortgages crops gro...\n",
            "Name: content, dtype: object\n",
            "frequent words removal 0                            5 ala 740 supreme alabama\n",
            "1                                  adams tanner horton\n",
            "2                                       june term 1843\n",
            "3                   synopsis writ error circuit sumter\n",
            "4    west headnotes 2 1 chattel mortgages crops gro...\n",
            "Name: content, dtype: object\n",
            "rare words removal 0                            5 ala 740 supreme alabama\n",
            "1                                  adams tanner horton\n",
            "2                                       june term 1843\n",
            "3                   synopsis writ error circuit sumter\n",
            "4    west headnotes 2 1 chattel mortgages crops gro...\n",
            "Name: content, dtype: object\n",
            "spelling correction 0                            5 ala 740 supreme alabama\n",
            "1                                  adams tanner horton\n",
            "2                                       june term 1843\n",
            "3                   synopsis writ error circuit sumter\n",
            "4    west headnotes 2 1 chattel mortgages crops gro...\n",
            "Name: content, dtype: object\n",
            "Tokenization ['adams', 'tanner', 'horton']\n",
            "stemming 0                             5 ala 740 suprem alabama\n",
            "1                                   adam tanner horton\n",
            "2                                       june term 1843\n",
            "3                    synopsi writ error circuit sumter\n",
            "4    west headnot 2 1 chattel mortgag crop grow exi...\n",
            "Name: content, dtype: object\n",
            "[nltk_data] Downloading package wordnet to /root/nltk_data...\n",
            "[nltk_data]   Package wordnet is already up-to-date!\n",
            "lemmeatiaztion 0                            5 ala 740 supreme alabama\n",
            "1                                   adam tanner horton\n",
            "2                                       june term 1843\n",
            "3                   synopsis writ error circuit sumter\n",
            "4    west headnotes 2 1 chattel mortgage crop growi...\n",
            "Name: content, dtype: object\n",
            "    words  tf\n",
            "0    adam   1\n",
            "1  tanner   1\n",
            "2  horton   1\n",
            "[WordList(['5']), WordList(['ala']), WordList(['740']), WordList(['supreme']), WordList(['alabama'])]\n",
            "[WordList(['5', 'ala']), WordList(['ala', '740']), WordList(['740', 'supreme']), WordList(['supreme', 'alabama'])]\n",
            "[WordList(['5', 'ala', '740']), WordList(['ala', '740', 'supreme']), WordList(['740', 'supreme', 'alabama'])]\n"
          ],
          "name": "stdout"
        }
      ]
    },
    {
      "cell_type": "markdown",
      "metadata": {
        "id": "BBiC4E_kefvV"
      },
      "source": [
        "# 2. Python Regular Expression"
      ]
    },
    {
      "cell_type": "markdown",
      "metadata": {
        "id": "Z1QJ-UwCenvN"
      },
      "source": [
        "## 2.1 Write a Python program to remove leading zeros from an IP address. (4 points)\n",
        "\n",
        "ip = \"260.08.094.109\""
      ]
    },
    {
      "cell_type": "code",
      "metadata": {
        "id": "wSv6fVhOfFmv",
        "colab": {
          "base_uri": "https://localhost:8080/",
          "height": 35
        },
        "outputId": "f8c2b494-c124-4338-c5d3-9f42ff41dbfa"
      },
      "source": [
        "def removeip(u):\n",
        "  n=\".\".join([str(int(i)) for i in u.split(\".\")])   \n",
        "  return n ; \n",
        "removeip('260.08.094.109')"
      ],
      "execution_count": null,
      "outputs": [
        {
          "output_type": "execute_result",
          "data": {
            "application/vnd.google.colaboratory.intrinsic+json": {
              "type": "string"
            },
            "text/plain": [
              "'260.8.94.109'"
            ]
          },
          "metadata": {
            "tags": []
          },
          "execution_count": 8
        }
      ]
    },
    {
      "cell_type": "markdown",
      "metadata": {
        "id": "PXRjaHzrfKAy"
      },
      "source": [
        "## 2.2 Write a Python Program to extract all the years from the following sentence. (4 points)\n",
        "\n",
        "sentence = \"The 2010s were a dramatic decade, filled with ups and downs, more than 1000 stroies have happened. As the decade comes to a close, Insider took a look back at some of the biggest headline-grabbing stories, from 2010 to 2019. The result was 119 news stories that ranged from the heartwarming rescue of a Thai boys' soccer team from a flooded cave to the divisive election of President Donald Trump.\""
      ]
    },
    {
      "cell_type": "code",
      "metadata": {
        "id": "7xdJpDx9gjbX",
        "colab": {
          "base_uri": "https://localhost:8080/"
        },
        "outputId": "7b98f115-53de-4ccb-f62f-decd1d607480"
      },
      "source": [
        "import re\n",
        "s=\"The 2010s were  a dramatic decade, filled with ups and downs, more than 1000 stroies have happened. As the decade comes to a close, Insider took a look back at some of the biggest headline-grabbing stories, from 2010 to 2019. The result was 119 news stories that ranged from the heartwarming rescue of a Thai boys' soccer team from a flooded cave to the divisive election of President Donald Trump.\"\n",
        "allyears=re.findall('(\\d{4})',s)\n",
        "allyears[:] = [X for X in year if \"1000\" not in X]\n",
        "allyears"
      ],
      "execution_count": null,
      "outputs": [
        {
          "output_type": "execute_result",
          "data": {
            "text/plain": [
              "['2010', '2010', '2019']"
            ]
          },
          "metadata": {
            "tags": []
          },
          "execution_count": 82
        }
      ]
    }
  ]
}